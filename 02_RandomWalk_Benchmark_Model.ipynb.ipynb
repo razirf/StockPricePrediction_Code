{
  "cells": [
    {
      "cell_type": "markdown",
      "metadata": {},
      "source": [
        "# 🎲 Random Walk Benchmark Model\n",
        "\n",
        "This notebook implements the **Random Walk model** as the baseline for stock price forecasting, described in **Section 3.1** of the paper:\n",
        "\n",
        "**\"The Application and Effectiveness of Machine Learning and Deep Learning Methods in Analyzing and Predicting the Shanghai Stock Index\"**\n",
        "\n",
        "---\n",
        "\n",
        "## 🔧 Key Steps:\n",
        "- Simulates random walk predictions for both training and test datasets\n",
        "- Computes standard evaluation metrics: **RMSE**, **MAE**, **MAPE**, and **R²**\n",
        "- Provides a naive benchmark to compare with advanced ML/DL models\n",
        "\n",
        "---\n",
        "\n",
        "## 📊 Paper Context:\n",
        "This notebook supports the empirical findings reported in **Table 1** of the article and highlights the limitations of the Random Walk assumption in capturing stock market dynamics.\n"
      ]
    },
    {
      "cell_type": "code",
      "execution_count": 1,
      "metadata": {
        "colab": {
          "base_uri": "https://localhost:8080/"
        },
        "id": "3VuWPpChtJQH",
        "outputId": "1072825b-c9b7-43ba-ee64-5ac09c035349"
      },
      "outputs": [
        {
          "name": "stdout",
          "output_type": "stream",
          "text": [
            "Requirement already satisfied: yfinance in c:\\users\\razan\\appdata\\local\\programs\\python\\python39\\lib\\site-packages (0.2.31)\n",
            "Requirement already satisfied: pandas>=1.3.0 in c:\\users\\razan\\appdata\\local\\programs\\python\\python39\\lib\\site-packages (from yfinance) (2.1.1)\n",
            "Requirement already satisfied: numpy>=1.16.5 in c:\\users\\razan\\appdata\\local\\programs\\python\\python39\\lib\\site-packages (from yfinance) (1.26.4)\n",
            "Requirement already satisfied: requests>=2.31 in c:\\users\\razan\\appdata\\local\\programs\\python\\python39\\lib\\site-packages (from yfinance) (2.31.0)\n",
            "Requirement already satisfied: multitasking>=0.0.7 in c:\\users\\razan\\appdata\\local\\programs\\python\\python39\\lib\\site-packages (from yfinance) (0.0.11)\n",
            "Requirement already satisfied: lxml>=4.9.1 in c:\\users\\razan\\appdata\\local\\programs\\python\\python39\\lib\\site-packages (from yfinance) (4.9.3)\n",
            "Requirement already satisfied: appdirs>=1.4.4 in c:\\users\\razan\\appdata\\local\\programs\\python\\python39\\lib\\site-packages (from yfinance) (1.4.4)\n",
            "Requirement already satisfied: pytz>=2022.5 in c:\\users\\razan\\appdata\\local\\programs\\python\\python39\\lib\\site-packages (from yfinance) (2023.3.post1)\n",
            "Requirement already satisfied: frozendict>=2.3.4 in c:\\users\\razan\\appdata\\local\\programs\\python\\python39\\lib\\site-packages (from yfinance) (2.3.8)\n",
            "Requirement already satisfied: peewee>=3.16.2 in c:\\users\\razan\\appdata\\local\\programs\\python\\python39\\lib\\site-packages (from yfinance) (3.17.0)\n",
            "Requirement already satisfied: beautifulsoup4>=4.11.1 in c:\\users\\razan\\appdata\\local\\programs\\python\\python39\\lib\\site-packages (from yfinance) (4.12.2)\n",
            "Requirement already satisfied: html5lib>=1.1 in c:\\users\\razan\\appdata\\local\\programs\\python\\python39\\lib\\site-packages (from yfinance) (1.1)\n",
            "Requirement already satisfied: soupsieve>1.2 in c:\\users\\razan\\appdata\\local\\programs\\python\\python39\\lib\\site-packages (from beautifulsoup4>=4.11.1->yfinance) (2.5)\n",
            "Requirement already satisfied: six>=1.9 in c:\\users\\razan\\appdata\\local\\programs\\python\\python39\\lib\\site-packages (from html5lib>=1.1->yfinance) (1.16.0)\n",
            "Requirement already satisfied: webencodings in c:\\users\\razan\\appdata\\local\\programs\\python\\python39\\lib\\site-packages (from html5lib>=1.1->yfinance) (0.5.1)\n",
            "Requirement already satisfied: python-dateutil>=2.8.2 in c:\\users\\razan\\appdata\\local\\programs\\python\\python39\\lib\\site-packages (from pandas>=1.3.0->yfinance) (2.8.2)\n",
            "Requirement already satisfied: tzdata>=2022.1 in c:\\users\\razan\\appdata\\local\\programs\\python\\python39\\lib\\site-packages (from pandas>=1.3.0->yfinance) (2023.3)\n",
            "Requirement already satisfied: charset-normalizer<4,>=2 in c:\\users\\razan\\appdata\\local\\programs\\python\\python39\\lib\\site-packages (from requests>=2.31->yfinance) (3.3.0)\n",
            "Requirement already satisfied: idna<4,>=2.5 in c:\\users\\razan\\appdata\\local\\programs\\python\\python39\\lib\\site-packages (from requests>=2.31->yfinance) (3.4)\n",
            "Requirement already satisfied: urllib3<3,>=1.21.1 in c:\\users\\razan\\appdata\\local\\programs\\python\\python39\\lib\\site-packages (from requests>=2.31->yfinance) (2.0.6)\n",
            "Requirement already satisfied: certifi>=2017.4.17 in c:\\users\\razan\\appdata\\local\\programs\\python\\python39\\lib\\site-packages (from requests>=2.31->yfinance) (2023.7.22)\n"
          ]
        },
        {
          "name": "stderr",
          "output_type": "stream",
          "text": [
            "\n",
            "[notice] A new release of pip is available: 24.0 -> 24.1.2\n",
            "[notice] To update, run: python.exe -m pip install --upgrade pip\n"
          ]
        }
      ],
      "source": [
        "!pip install yfinance\n",
        "import yfinance as yf"
      ]
    },
    {
      "cell_type": "code",
      "execution_count": 2,
      "metadata": {
        "id": "czUWwzCBuyko"
      },
      "outputs": [],
      "source": [
        "# Import the necessary libraries\n",
        "import yfinance as yf\n",
        "import pandas as pd\n",
        "import numpy as np\n",
        "from sklearn.preprocessing import MinMaxScaler\n",
        "from sklearn.metrics import mean_squared_error, mean_absolute_error, r2_score"
      ]
    },
    {
      "cell_type": "code",
      "execution_count": 13,
      "metadata": {},
      "outputs": [
        {
          "name": "stdout",
          "output_type": "stream",
          "text": [
            "[*********************100%%**********************]  1 of 1 completed\n",
            "Train RMSE:  780.8576476696128\n",
            "Train MAE:  668.155967053741\n",
            "Train MAPE:  27.699813632178998\n",
            "Train R^2:  -0.7936127387422294\n",
            "Test RMSE:  285.4437211155681\n",
            "Test MAE:  233.46217305434774\n",
            "Test MAPE:  8.08556034713153\n",
            "Test R^2:  -0.29339460335349554\n"
          ]
        }
      ],
      "source": [
        "# Download the data\n",
        "start = '2010-01-04'\n",
        "end = '2020-01-23'\n",
        "data = yf.download('000001.SS', start, end)\n",
        "\n",
        "# Reset the index\n",
        "data = data.reset_index()\n",
        "\n",
        "# Drop missing values\n",
        "data = data.dropna()\n",
        "\n",
        "# Determine the length of the training data (70%)\n",
        "train_len = int(len(data[\"Adj Close\"]) * 0.7)\n",
        "\n",
        "# Set the training and test data\n",
        "train_data = data.iloc[:train_len]\n",
        "test_data = data.iloc[train_len:]\n",
        "\n",
        "# Define a function to implement a random walk\n",
        "def random_walk(last_value):\n",
        "    return last_value + np.random.normal()\n",
        "\n",
        "# Create a new dataframe for the random walk\n",
        "random_walk_df = train_data[['Adj Close']].copy()\n",
        "\n",
        "# Add a new column for the random walk predictions\n",
        "random_walk_df['Random Walk Prediction'] = np.nan\n",
        "\n",
        "# Set the first prediction to be the last value in the training data\n",
        "random_walk_df.loc[random_walk_df.index[0], 'Random Walk Prediction'] = random_walk_df.loc[random_walk_df.index[0], 'Adj Close']\n",
        "\n",
        "# Generate the random walk predictions\n",
        "for i in range(1, len(random_walk_df)):\n",
        "    random_walk_df.loc[random_walk_df.index[i], 'Random Walk Prediction'] = random_walk(last_value=random_walk_df.loc[random_walk_df.index[i-1], 'Random Walk Prediction'])\n",
        "\n",
        "# Function to calculate MAPE\n",
        "def mean_absolute_percentage_error(y_true, y_pred):\n",
        "    return np.mean(np.abs((y_true - y_pred) / y_true)) * 100\n",
        "\n",
        "# Calculate the RMSE of the training data\n",
        "train_rmse = np.sqrt(mean_squared_error(train_data['Adj Close'][1:], random_walk_df['Random Walk Prediction'][1:]))\n",
        "print('Train RMSE: ', train_rmse)\n",
        "\n",
        "# Calculate the MAE of the training data\n",
        "train_mae = mean_absolute_error(train_data['Adj Close'][1:], random_walk_df['Random Walk Prediction'][1:])\n",
        "print('Train MAE: ', train_mae)\n",
        "\n",
        "# Calculate the MAPE of the training data\n",
        "train_mape = mean_absolute_percentage_error(train_data['Adj Close'][1:].values, random_walk_df['Random Walk Prediction'][1:].values)\n",
        "print('Train MAPE: ', train_mape)\n",
        "\n",
        "# Calculate the R^2 of the training data\n",
        "train_r2 = r2_score(train_data['Adj Close'][1:], random_walk_df['Random Walk Prediction'][1:])\n",
        "print('Train R^2: ', train_r2)\n",
        "\n",
        "# Create a new dataframe for the random walk on the test data\n",
        "random_walk_test_df = test_data[['Adj Close']].copy()\n",
        "\n",
        "# Add a new column for the random walk predictions\n",
        "random_walk_test_df['Random Walk Prediction'] = np.nan\n",
        "\n",
        "# Set the first prediction to be the last value in the training data\n",
        "random_walk_test_df.loc[random_walk_test_df.index[0], 'Random Walk Prediction'] = train_data.loc[train_data.index[-1], 'Adj Close']\n",
        "\n",
        "# Generate the random walk predictions\n",
        "for i in range(1, len(random_walk_test_df)):\n",
        "    random_walk_test_df.loc[random_walk_test_df.index[i], 'Random Walk Prediction'] = random_walk(last_value=random_walk_test_df.loc[random_walk_test_df.index[i-1], 'Random Walk Prediction'])\n",
        "\n",
        "# Calculate the RMSE of the test data\n",
        "test_rmse = np.sqrt(mean_squared_error(test_data['Adj Close'][1:], random_walk_test_df['Random Walk Prediction'][1:]))\n",
        "print('Test RMSE: ', test_rmse)\n",
        "\n",
        "# Calculate the MAE of the test data\n",
        "test_mae = mean_absolute_error(test_data['Adj Close'][1:], random_walk_test_df['Random Walk Prediction'][1:])\n",
        "print('Test MAE: ', test_mae)\n",
        "\n",
        "# Calculate the MAPE of the test data\n",
        "test_mape = mean_absolute_percentage_error(test_data['Adj Close'][1:].values, random_walk_test_df['Random Walk Prediction'][1:].values)\n",
        "print('Test MAPE: ', test_mape)\n",
        "\n",
        "# Calculate the R^2 of the test data\n",
        "test_r2 = r2_score(test_data['Adj Close'][1:], random_walk_test_df['Random Walk Prediction'][1:])\n",
        "print('Test R^2: ', test_r2)\n"
      ]
    }
  ],
  "metadata": {
    "colab": {
      "provenance": []
    },
    "kernelspec": {
      "display_name": "Python 3",
      "name": "python3"
    },
    "language_info": {
      "codemirror_mode": {
        "name": "ipython",
        "version": 3
      },
      "file_extension": ".py",
      "mimetype": "text/x-python",
      "name": "python",
      "nbconvert_exporter": "python",
      "pygments_lexer": "ipython3",
      "version": "3.9.1"
    }
  },
  "nbformat": 4,
  "nbformat_minor": 0
}
